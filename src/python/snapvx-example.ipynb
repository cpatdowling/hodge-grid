{
 "metadata": {
  "name": ""
 },
 "nbformat": 3,
 "nbformat_minor": 0,
 "worksheets": [
  {
   "cells": [
    {
     "cell_type": "code",
     "collapsed": false,
     "input": [
      "from snapvx import *\n",
      "\n",
      "#Create new graph\n",
      "gvx = TGraphVX()\n",
      "\n",
      "#Use CVXPY syntax to define a problem\n",
      "x1 = Variable(1, name='x1')\n",
      "obj = square(x1)\n",
      "#Add Node 1 with the given objective, with the constraint that x1 <= 10\n",
      "gvx.AddNode(1, Objective=obj, Constraints=[x1 <= 10])\n",
      "\n",
      "#Similarly, add Node 2 with objective |x2 + 3|\n",
      "x2 = Variable(1, name='x2')\n",
      "obj2 = abs(x2 + 3)\n",
      "gvx.AddNode(2, obj2, [])\n",
      "\n",
      "#Add an edge between the two nodes, \n",
      "#Define an objective, constraints using CVXPY syntax\n",
      "gvx.AddEdge(1, 2, Objective=square(norm(x1 - x2)), Constraints=[])\n",
      "\n",
      "gvx.Solve() #Solve the problem\n",
      "gvx.PrintSolution() #Print entire solution on a node-by-node basis\n",
      "print \"x1 = \", x1.value, \"; x2 = \", x2.value #Print the solutions of individual variables"
     ],
     "language": "python",
     "metadata": {},
     "outputs": [
      {
       "output_type": "stream",
       "stream": "stdout",
       "text": [
        "Status: Optimal\n",
        "Total Objective: 2.500335\n",
        "Node 1:\n",
        "  x1 [-0.51704776]\n",
        "Node 2:\n",
        "  x2 [-1.0237034]\n",
        "x1 =  -0.517047763842 ; x2 =  -1.02370340103\n"
       ]
      }
     ],
     "prompt_number": 3
    },
    {
     "cell_type": "code",
     "collapsed": false,
     "input": [],
     "language": "python",
     "metadata": {},
     "outputs": [],
     "prompt_number": 2
    },
    {
     "cell_type": "code",
     "collapsed": false,
     "input": [],
     "language": "python",
     "metadata": {},
     "outputs": []
    }
   ],
   "metadata": {}
  }
 ]
}