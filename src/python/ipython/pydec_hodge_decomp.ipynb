{
 "cells": [
  {
   "cell_type": "code",
   "execution_count": 2,
   "metadata": {},
   "outputs": [],
   "source": [
    "import numpy as np\n",
    "import sys\n",
    "\n",
    "sys.path.append(\"/home/chase/applications/pydec/\")\n",
    "\n",
    "import pydec\n",
    "from scipy.sparse import linalg as sp\n",
    "\n",
    "#flows\n",
    "X_simple = np.array([[0, 5, 0, 0], [-5, 0, 3, -1], [0, -3, 0, 1], [0, 1, -1, 0]])\n",
    "X_bad = np.array([[0, 1, 0, 0, 0], [-1, 0, 2, -1, 0], [0, -2, 0, 1, 1], [0, 1, -1, 0, 0], [0, 0, -1, 0, 0]])\n",
    "X_good = np.array([[0, 3, 0, 0, 0], [-3, 0, 2, 1, 0], [0, -2, 0, -1, 3], [0, -1, 1, 0, 0], [0, 0, -3, 0, 0]])\n",
    "#adjacency\n",
    "A = X_simple.copy()\n",
    "A_gb = X_bad.copy()\n",
    "A[A != 0] = 1\n",
    "A_gb[A_gb != 0] =1\n",
    "\n",
    "#Laplacian\n",
    "L = np.sum(X_simple, 1)*np.eye(4,4) - A\n",
    "L_good = np.sum(X_good, 1)*np.eye(5,5) - A_gb\n",
    "L_bad = np.sum(X_bad, 1)*np.eye(5,5) - A_gb"
   ]
  },
  {
   "cell_type": "code",
   "execution_count": 3,
   "metadata": {
    "collapsed": true
   },
   "outputs": [],
   "source": [
    "#data = np.loadtxt('/home/chase/projects/hodge-grid/src/python/flow_example.txt')\n",
    "data_good = np.loadtxt('/home/chase/projects/hodge-grid/src/python/flow_example_good.txt')\n",
    "data_bad = np.loadtxt('/home/chase/projects/hodge-grid/src/python/flow_example_bad.txt')\n"
   ]
  },
  {
   "cell_type": "code",
   "execution_count": 4,
   "metadata": {},
   "outputs": [
    {
     "name": "stdout",
     "output_type": "stream",
     "text": [
      "[array([[ 0.],\n",
      "       [ 1.],\n",
      "       [ 2.],\n",
      "       [ 3.],\n",
      "       [ 4.]]), array([[ 0.,  1.],\n",
      "       [ 1.,  2.],\n",
      "       [ 1.,  3.],\n",
      "       [ 2.,  3.],\n",
      "       [ 2.,  4.]]), array([[1, 2, 3]])]\n"
     ]
    },
    {
     "name": "stderr",
     "output_type": "stream",
     "text": [
      "/home/chase/applications/pydec/pydec/dec/simplex_array.py:28: VisibleDeprecationWarning: `rank` is deprecated; use the `ndim` attribute or function instead. To find the rank of a matrix see `numpy.linalg.matrix_rank`.\n",
      "  if rank(s) != 2 or rank(v) != 2:\n"
     ]
    }
   ],
   "source": [
    "edges_good = data_good[:,:2]\n",
    "edges_bad = data_bad[:,:2]\n",
    "\n",
    "#create simplicial complex\n",
    "asc = pydec.abstract_simplicial_complex([edges_good, [1,2,3]]) #manually add triangle\n",
    "print(asc.simplices)"
   ]
  },
  {
   "cell_type": "code",
   "execution_count": 10,
   "metadata": {},
   "outputs": [
    {
     "name": "stdout",
     "output_type": "stream",
     "text": [
      "(5, 5)\n",
      "\n",
      "\n",
      "  (1, 0)\t1.0\n",
      "  (2, 0)\t-1.0\n",
      "  (3, 0)\t1.0\n",
      "(5, 1)\n"
     ]
    }
   ],
   "source": [
    "omega = data_good[:,-1] #flow data\n",
    "cmplx = asc.chain_complex()\n",
    "b1 = cmplx[1].astype(float) #boundary matrix\n",
    "b2 = cmplx[2].astype(float)\n",
    "\n",
    "print(b1.shape)\n",
    "print(\"\\n\")\n",
    "print(b2)\n",
    "print(b2.shape)"
   ]
  },
  {
   "cell_type": "code",
   "execution_count": 29,
   "metadata": {},
   "outputs": [],
   "source": [
    "x = np.ones((b1.shape[1],1))\n",
    "\n",
    "alpha = sp.cg(b1.dot(b1.T), b1.dot(x), tol=1e-8)[0]\n",
    "beta = sp.cg(b2.T.dot(b2), b2.T.dot(x), tol=1e-8)[0]\n"
   ]
  },
  {
   "cell_type": "code",
   "execution_count": null,
   "metadata": {
    "collapsed": true
   },
   "outputs": [],
   "source": []
  },
  {
   "cell_type": "code",
   "execution_count": 30,
   "metadata": {},
   "outputs": [
    {
     "name": "stdout",
     "output_type": "stream",
     "text": [
      "(5, 5)\n",
      "(5,)\n",
      "(5, 1)\n",
      "(1,)\n"
     ]
    }
   ],
   "source": [
    "print(b1.shape)\n",
    "print(alpha.shape)\n",
    "print(b2.shape)\n",
    "print(beta.shape)"
   ]
  },
  {
   "cell_type": "code",
   "execution_count": 34,
   "metadata": {},
   "outputs": [
    {
     "name": "stdout",
     "output_type": "stream",
     "text": [
      "(5, 5)\n"
     ]
    }
   ],
   "source": [
    "h = x - (b1.T.dot(alpha)) - (b2.dot(beta))\n",
    "print(h.shape)"
   ]
  },
  {
   "cell_type": "code",
   "execution_count": 24,
   "metadata": {},
   "outputs": [
    {
     "name": "stdout",
     "output_type": "stream",
     "text": [
      "  (0, 0)\t-1.0\n",
      "  (1, 0)\t1.0\n",
      "  (1, 1)\t-1.0\n",
      "  (1, 2)\t-1.0\n",
      "  (2, 1)\t1.0\n",
      "  (2, 3)\t-1.0\n",
      "  (2, 4)\t-1.0\n",
      "  (3, 2)\t1.0\n",
      "  (3, 3)\t1.0\n",
      "  (4, 4)\t1.0\n"
     ]
    }
   ],
   "source": [
    "print(b1)"
   ]
  },
  {
   "cell_type": "code",
   "execution_count": 25,
   "metadata": {},
   "outputs": [
    {
     "name": "stdout",
     "output_type": "stream",
     "text": [
      "  (1, 0)\t1.0\n",
      "  (2, 0)\t-1.0\n",
      "  (3, 0)\t1.0\n"
     ]
    }
   ],
   "source": [
    "print(b2)"
   ]
  },
  {
   "cell_type": "code",
   "execution_count": 35,
   "metadata": {},
   "outputs": [
    {
     "data": {
      "text/plain": [
       "array([[  2.22044605e-16,  -5.55111512e-16,  -3.33066907e-16,\n",
       "          1.11022302e-16,   2.22044605e-16],\n",
       "       [ -3.33066907e-16,   8.32667268e-16,   4.99600361e-16,\n",
       "         -1.66533454e-16,  -3.33066907e-16],\n",
       "       [ -3.33066907e-16,   8.32667268e-16,   4.99600361e-16,\n",
       "         -1.66533454e-16,  -3.33066907e-16],\n",
       "       [ -2.22044605e-16,   5.55111512e-16,   3.33066907e-16,\n",
       "         -1.11022302e-16,  -2.22044605e-16],\n",
       "       [ -4.44089210e-16,   1.11022302e-15,   6.66133815e-16,\n",
       "         -2.22044605e-16,  -4.44089210e-16]])"
      ]
     },
     "execution_count": 35,
     "metadata": {},
     "output_type": "execute_result"
    }
   ],
   "source": [
    "L_good.dot(h) #harmonic solution, should equal 0 when mulitplied by Laplacian"
   ]
  },
  {
   "cell_type": "code",
   "execution_count": 10,
   "metadata": {},
   "outputs": [
    {
     "data": {
      "text/plain": [
       "array([[-0.        , -1.6       ,  0.        ,  0.        ,  0.        ],\n",
       "       [ 4.6       , -0.        ,  0.26666667,  0.8       ,  0.        ],\n",
       "       [-0.        ,  1.06666667,  0.        , -0.8       ,  3.4       ],\n",
       "       [-0.        ,  0.53333333,  0.13333333,  0.        ,  0.        ],\n",
       "       [-0.        , -0.        , -0.4       ,  0.        ,  0.        ]])"
      ]
     },
     "execution_count": 10,
     "metadata": {},
     "output_type": "execute_result"
    }
   ],
   "source": [
    "X_good*alpha #gradient"
   ]
  },
  {
   "cell_type": "code",
   "execution_count": 11,
   "metadata": {},
   "outputs": [
    {
     "data": {
      "text/plain": [
       "array([[ 0.        ,  1.        ,  0.        ,  0.        ,  0.        ],\n",
       "       [-1.        ,  0.        ,  0.66666667,  0.33333333,  0.        ],\n",
       "       [ 0.        , -0.66666667,  0.        , -0.33333333,  1.        ],\n",
       "       [ 0.        , -0.33333333,  0.33333333,  0.        ,  0.        ],\n",
       "       [ 0.        ,  0.        , -1.        ,  0.        ,  0.        ]])"
      ]
     },
     "execution_count": 11,
     "metadata": {},
     "output_type": "execute_result"
    }
   ],
   "source": [
    "X_good*beta #curl free"
   ]
  },
  {
   "cell_type": "code",
   "execution_count": 26,
   "metadata": {},
   "outputs": [
    {
     "data": {
      "text/plain": [
       "array([-1.53333333, -0.53333333,  0.13333333,  0.8       ,  1.13333333])"
      ]
     },
     "execution_count": 26,
     "metadata": {},
     "output_type": "execute_result"
    }
   ],
   "source": [
    "alpha"
   ]
  },
  {
   "cell_type": "code",
   "execution_count": 27,
   "metadata": {},
   "outputs": [
    {
     "data": {
      "text/plain": [
       "array([ 0.33333333])"
      ]
     },
     "execution_count": 27,
     "metadata": {},
     "output_type": "execute_result"
    }
   ],
   "source": [
    "beta"
   ]
  },
  {
   "cell_type": "code",
   "execution_count": 28,
   "metadata": {
    "collapsed": true
   },
   "outputs": [],
   "source": [
    "omega = data_bad[:,-1] #flow data\n",
    "cmplx = asc.chain_complex()\n",
    "b1 = cmplx[1].astype(float) #boundary matrix\n",
    "b2 = cmplx[2].astype(float)\n",
    "\n",
    "x = np.ones(b1.shape[1])\n",
    "\n",
    "alpha = sp.cg(b1 * b1.T, b1*x, tol=1e-8)[0]\n",
    "beta = sp.cg(b2.T * b2, b2.T * x, tol=1e-8)[0]\n",
    "\n",
    "h = x - (b1.T *alpha) - (b2*beta)"
   ]
  },
  {
   "cell_type": "code",
   "execution_count": 32,
   "metadata": {},
   "outputs": [
    {
     "data": {
      "text/plain": [
       "array([  0.00000000e+00,  -1.66533454e-16,  -1.66533454e-16,\n",
       "        -5.55111512e-17,   1.11022302e-16])"
      ]
     },
     "execution_count": 32,
     "metadata": {},
     "output_type": "execute_result"
    }
   ],
   "source": [
    "h"
   ]
  },
  {
   "cell_type": "code",
   "execution_count": 30,
   "metadata": {},
   "outputs": [
    {
     "data": {
      "text/plain": [
       "array([[-0.        , -0.53333333,  0.        ,  0.        ,  0.        ],\n",
       "       [ 1.53333333, -0.        ,  0.26666667, -0.8       ,  0.        ],\n",
       "       [-0.        ,  1.06666667,  0.        ,  0.8       ,  1.13333333],\n",
       "       [-0.        , -0.53333333, -0.13333333,  0.        ,  0.        ],\n",
       "       [-0.        , -0.        , -0.13333333,  0.        ,  0.        ]])"
      ]
     },
     "execution_count": 30,
     "metadata": {},
     "output_type": "execute_result"
    }
   ],
   "source": [
    "X_bad*alpha #gradient"
   ]
  },
  {
   "cell_type": "code",
   "execution_count": 31,
   "metadata": {},
   "outputs": [
    {
     "data": {
      "text/plain": [
       "array([[ 0.        ,  0.33333333,  0.        ,  0.        ,  0.        ],\n",
       "       [-0.33333333,  0.        ,  0.66666667, -0.33333333,  0.        ],\n",
       "       [ 0.        , -0.66666667,  0.        ,  0.33333333,  0.33333333],\n",
       "       [ 0.        ,  0.33333333, -0.33333333,  0.        ,  0.        ],\n",
       "       [ 0.        ,  0.        , -0.33333333,  0.        ,  0.        ]])"
      ]
     },
     "execution_count": 31,
     "metadata": {},
     "output_type": "execute_result"
    }
   ],
   "source": [
    "X_bad*beta #curl free"
   ]
  },
  {
   "cell_type": "code",
   "execution_count": 35,
   "metadata": {},
   "outputs": [
    {
     "data": {
      "text/plain": [
       "array([-1.53333333, -0.53333333,  0.13333333,  0.8       ,  1.13333333])"
      ]
     },
     "execution_count": 35,
     "metadata": {},
     "output_type": "execute_result"
    }
   ],
   "source": [
    "alpha"
   ]
  },
  {
   "cell_type": "code",
   "execution_count": 36,
   "metadata": {},
   "outputs": [
    {
     "data": {
      "text/plain": [
       "array([ 0.33333333])"
      ]
     },
     "execution_count": 36,
     "metadata": {},
     "output_type": "execute_result"
    }
   ],
   "source": [
    "beta"
   ]
  },
  {
   "cell_type": "code",
   "execution_count": 37,
   "metadata": {},
   "outputs": [
    {
     "data": {
      "text/plain": [
       "array([[ 0.38888889,  0.16666667, -0.16666667, -0.22222222,  0.05555556],\n",
       "       [ 0.16666667,  0.5       , -0.5       , -0.66666667,  0.16666667],\n",
       "       [-0.16666667, -0.5       ,  0.5       , -0.33333333, -0.16666667],\n",
       "       [-0.22222222, -0.66666667, -0.33333333,  0.55555556,  0.11111111],\n",
       "       [ 0.05555556,  0.16666667, -0.16666667,  0.11111111, -0.27777778]])"
      ]
     },
     "execution_count": 37,
     "metadata": {},
     "output_type": "execute_result"
    }
   ],
   "source": [
    "np.linalg.pinv(L_good)"
   ]
  },
  {
   "cell_type": "code",
   "execution_count": 38,
   "metadata": {},
   "outputs": [
    {
     "data": {
      "text/plain": [
       "array([[  1.50000000e+00,   5.00000000e-01,  -5.00000000e-01,\n",
       "         -1.00000000e+00,   5.00000000e-01],\n",
       "       [  5.00000000e-01,   5.00000000e-01,  -5.00000000e-01,\n",
       "         -1.00000000e+00,   5.00000000e-01],\n",
       "       [ -5.00000000e-01,  -5.00000000e-01,   5.00000000e-01,\n",
       "          0.00000000e+00,  -5.00000000e-01],\n",
       "       [ -1.00000000e+00,  -1.00000000e+00,   2.22044605e-16,\n",
       "          1.00000000e+00,  -2.77555756e-16],\n",
       "       [  5.00000000e-01,   5.00000000e-01,  -5.00000000e-01,\n",
       "          1.11022302e-16,  -5.00000000e-01]])"
      ]
     },
     "execution_count": 38,
     "metadata": {},
     "output_type": "execute_result"
    }
   ],
   "source": [
    "np.linalg.pinv(L_bad)"
   ]
  },
  {
   "cell_type": "code",
   "execution_count": 49,
   "metadata": {},
   "outputs": [
    {
     "name": "stdout",
     "output_type": "stream",
     "text": [
      "[array([[  0],\n",
      "       [  1],\n",
      "       [  2],\n",
      "       [  3],\n",
      "       [  4],\n",
      "       [  5],\n",
      "       [  6],\n",
      "       [  7],\n",
      "       [  8],\n",
      "       [  9],\n",
      "       [ 10],\n",
      "       [ 11],\n",
      "       [ 12],\n",
      "       [ 13],\n",
      "       [ 14],\n",
      "       [ 15],\n",
      "       [ 16],\n",
      "       [ 17],\n",
      "       [ 18],\n",
      "       [ 19],\n",
      "       [ 20],\n",
      "       [ 21],\n",
      "       [ 22],\n",
      "       [ 23],\n",
      "       [ 24],\n",
      "       [ 25],\n",
      "       [ 26],\n",
      "       [ 27],\n",
      "       [ 28],\n",
      "       [ 29],\n",
      "       [ 30],\n",
      "       [ 31],\n",
      "       [ 32],\n",
      "       [ 33],\n",
      "       [ 34],\n",
      "       [ 35],\n",
      "       [ 36],\n",
      "       [ 37],\n",
      "       [ 38],\n",
      "       [ 39],\n",
      "       [ 40],\n",
      "       [ 41],\n",
      "       [ 42],\n",
      "       [ 43],\n",
      "       [ 44],\n",
      "       [ 45],\n",
      "       [ 46],\n",
      "       [ 47],\n",
      "       [ 48],\n",
      "       [ 49],\n",
      "       [ 50],\n",
      "       [ 51],\n",
      "       [ 52],\n",
      "       [ 53],\n",
      "       [ 54],\n",
      "       [ 55],\n",
      "       [ 56],\n",
      "       [ 57],\n",
      "       [ 58],\n",
      "       [ 59],\n",
      "       [ 60],\n",
      "       [ 61],\n",
      "       [ 62],\n",
      "       [ 63],\n",
      "       [ 64],\n",
      "       [ 65],\n",
      "       [ 66],\n",
      "       [ 67],\n",
      "       [ 68],\n",
      "       [ 69],\n",
      "       [ 70],\n",
      "       [ 71],\n",
      "       [ 72],\n",
      "       [ 73],\n",
      "       [ 74],\n",
      "       [ 75],\n",
      "       [ 76],\n",
      "       [ 77],\n",
      "       [ 78],\n",
      "       [ 79],\n",
      "       [ 80],\n",
      "       [ 81],\n",
      "       [ 82],\n",
      "       [ 83],\n",
      "       [ 84],\n",
      "       [ 85],\n",
      "       [ 86],\n",
      "       [ 87],\n",
      "       [ 88],\n",
      "       [ 89],\n",
      "       [ 90],\n",
      "       [ 91],\n",
      "       [ 92],\n",
      "       [ 93],\n",
      "       [ 94],\n",
      "       [ 95],\n",
      "       [ 96],\n",
      "       [ 97],\n",
      "       [ 98],\n",
      "       [ 99],\n",
      "       [100],\n",
      "       [101],\n",
      "       [102],\n",
      "       [103],\n",
      "       [104],\n",
      "       [105],\n",
      "       [106],\n",
      "       [107],\n",
      "       [108],\n",
      "       [109],\n",
      "       [110],\n",
      "       [111],\n",
      "       [112],\n",
      "       [113],\n",
      "       [114],\n",
      "       [115],\n",
      "       [116],\n",
      "       [117],\n",
      "       [118],\n",
      "       [119],\n",
      "       [120],\n",
      "       [121],\n",
      "       [122],\n",
      "       [123],\n",
      "       [124],\n",
      "       [125],\n",
      "       [126],\n",
      "       [127],\n",
      "       [128],\n",
      "       [129],\n",
      "       [130],\n",
      "       [131],\n",
      "       [132],\n",
      "       [133],\n",
      "       [134],\n",
      "       [135],\n",
      "       [136],\n",
      "       [137],\n",
      "       [138],\n",
      "       [139],\n",
      "       [140],\n",
      "       [141],\n",
      "       [142],\n",
      "       [143],\n",
      "       [144],\n",
      "       [145],\n",
      "       [146],\n",
      "       [147],\n",
      "       [148],\n",
      "       [149],\n",
      "       [150],\n",
      "       [151],\n",
      "       [152],\n",
      "       [153],\n",
      "       [154],\n",
      "       [155],\n",
      "       [156],\n",
      "       [157],\n",
      "       [158],\n",
      "       [159],\n",
      "       [160],\n",
      "       [161],\n",
      "       [162],\n",
      "       [163],\n",
      "       [164],\n",
      "       [165],\n",
      "       [166],\n",
      "       [167],\n",
      "       [168],\n",
      "       [169],\n",
      "       [170],\n",
      "       [171],\n",
      "       [172],\n",
      "       [173],\n",
      "       [174],\n",
      "       [175],\n",
      "       [176],\n",
      "       [177],\n",
      "       [178],\n",
      "       [179],\n",
      "       [180],\n",
      "       [181],\n",
      "       [182],\n",
      "       [183],\n",
      "       [184],\n",
      "       [185],\n",
      "       [186],\n",
      "       [187],\n",
      "       [188],\n",
      "       [189],\n",
      "       [190],\n",
      "       [191],\n",
      "       [192],\n",
      "       [193],\n",
      "       [194],\n",
      "       [195],\n",
      "       [196],\n",
      "       [197],\n",
      "       [198],\n",
      "       [199],\n",
      "       [200],\n",
      "       [201],\n",
      "       [202],\n",
      "       [203],\n",
      "       [204],\n",
      "       [205],\n",
      "       [206],\n",
      "       [207],\n",
      "       [208],\n",
      "       [209],\n",
      "       [210],\n",
      "       [211],\n",
      "       [212],\n",
      "       [213],\n",
      "       [214],\n",
      "       [215],\n",
      "       [216],\n",
      "       [217],\n",
      "       [218],\n",
      "       [219],\n",
      "       [220],\n",
      "       [221],\n",
      "       [222],\n",
      "       [223],\n",
      "       [224],\n",
      "       [225],\n",
      "       [226],\n",
      "       [227],\n",
      "       [228],\n",
      "       [229],\n",
      "       [230],\n",
      "       [231],\n",
      "       [232],\n",
      "       [233],\n",
      "       [234],\n",
      "       [235],\n",
      "       [236],\n",
      "       [237],\n",
      "       [238],\n",
      "       [239],\n",
      "       [240],\n",
      "       [241],\n",
      "       [242],\n",
      "       [243],\n",
      "       [244],\n",
      "       [245],\n",
      "       [246],\n",
      "       [247],\n",
      "       [248],\n",
      "       [249],\n",
      "       [250],\n",
      "       [251],\n",
      "       [252],\n",
      "       [253],\n",
      "       [254],\n",
      "       [255],\n",
      "       [256],\n",
      "       [257],\n",
      "       [258],\n",
      "       [259],\n",
      "       [260],\n",
      "       [261],\n",
      "       [262],\n",
      "       [263],\n",
      "       [264],\n",
      "       [265],\n",
      "       [266],\n",
      "       [267],\n",
      "       [268],\n",
      "       [269],\n",
      "       [270],\n",
      "       [271],\n",
      "       [272],\n",
      "       [273],\n",
      "       [274],\n",
      "       [275],\n",
      "       [276],\n",
      "       [277],\n",
      "       [278],\n",
      "       [279],\n",
      "       [280],\n",
      "       [281],\n",
      "       [282],\n",
      "       [283],\n",
      "       [284],\n",
      "       [285],\n",
      "       [286],\n",
      "       [287],\n",
      "       [288],\n",
      "       [289],\n",
      "       [290],\n",
      "       [291],\n",
      "       [292],\n",
      "       [293],\n",
      "       [294],\n",
      "       [295],\n",
      "       [296],\n",
      "       [297],\n",
      "       [298],\n",
      "       [299]], dtype=int32), array([[  0,   2],\n",
      "       [  0,  15],\n",
      "       [  0,  31],\n",
      "       ..., \n",
      "       [287, 290],\n",
      "       [287, 295],\n",
      "       [290, 298]], dtype=int32), array([[  0,   2,  31],\n",
      "       [  0,   2,  52],\n",
      "       [  0,   2, 192],\n",
      "       ..., \n",
      "       [274, 276, 288],\n",
      "       [281, 283, 286],\n",
      "       [285, 287, 290]], dtype=int32)]\n"
     ]
    }
   ],
   "source": [
    "#rips complex example\n",
    "pts = pydec.read_array('/home/chase/projects/opf/src/python/pydec/Examples/RipsComplex/300pts.mtx')\n",
    "rc = pydec.rips_complex(pts, 0.15)\n",
    "print(rc.simplices)"
   ]
  },
  {
   "cell_type": "code",
   "execution_count": 31,
   "metadata": {
    "collapsed": true
   },
   "outputs": [],
   "source": [
    "cmplx = rc.chain_complex()\n",
    "b1 = cmplx[1].astype(float)\n",
    "b2 = cmplx[2].astype(float)\n",
    "\n",
    "x = np.random.rand(b1.shape[1])\n",
    "\n",
    "alpha = sp.cg(b1 * b1.T, b1*x, tol=1e-8)[0]\n",
    "beta = sp.cg(b2.T * b2, b2.T * x, tol=1e-8)[0]\n",
    "\n",
    "h = x - (b1.T *alpha) - (b2*beta)\n",
    "h /= abs(h).max()"
   ]
  },
  {
   "cell_type": "code",
   "execution_count": 32,
   "metadata": {},
   "outputs": [
    {
     "name": "stdout",
     "output_type": "stream",
     "text": [
      "[ 0.02495788 -0.00580069 -0.00410362 ...,  0.39048615 -0.29396785\n",
      "  0.41946563]\n"
     ]
    }
   ],
   "source": [
    "print(h)"
   ]
  },
  {
   "cell_type": "code",
   "execution_count": null,
   "metadata": {
    "collapsed": true
   },
   "outputs": [],
   "source": []
  }
 ],
 "metadata": {
  "kernelspec": {
   "display_name": "Python 2",
   "language": "python",
   "name": "python2"
  },
  "language_info": {
   "codemirror_mode": {
    "name": "ipython",
    "version": 2
   },
   "file_extension": ".py",
   "mimetype": "text/x-python",
   "name": "python",
   "nbconvert_exporter": "python",
   "pygments_lexer": "ipython2",
   "version": "2.7.12"
  }
 },
 "nbformat": 4,
 "nbformat_minor": 1
}
