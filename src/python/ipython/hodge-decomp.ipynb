{
 "metadata": {
  "name": ""
 },
 "nbformat": 3,
 "nbformat_minor": 0,
 "worksheets": [
  {
   "cells": [
    {
     "cell_type": "code",
     "collapsed": false,
     "input": [
      "import numpy as np\n",
      "import networkx as nx\n",
      "from scipy.linalg import *"
     ],
     "language": "python",
     "metadata": {},
     "outputs": [],
     "prompt_number": 2
    },
    {
     "cell_type": "code",
     "collapsed": false,
     "input": [],
     "language": "python",
     "metadata": {},
     "outputs": []
    },
    {
     "cell_type": "code",
     "collapsed": false,
     "input": [
      "#flows\n",
      "X = np.array([[0, 5, 0, 0], [-5, 0, 3, -1], [0, -3, 0, 1], [0, 1, -1, 0]])\n",
      "#adjacency\n",
      "A = X.copy()\n",
      "A[A != 0] = 1\n",
      "\n",
      "#divergence of flow matrix\n",
      "D = np.sum(X, 1)*np.eye(4,4)\n",
      "\n",
      "#Laplacian\n",
      "L = np.sum(A,1)*np.eye(4,4) + -1*A"
     ],
     "language": "python",
     "metadata": {},
     "outputs": [],
     "prompt_number": 37
    },
    {
     "cell_type": "code",
     "collapsed": false,
     "input": [
      "#svd to find domain/codomain of Laplacian\n",
      "U, S, V = np.linalg.svd(L)"
     ],
     "language": "python",
     "metadata": {},
     "outputs": [],
     "prompt_number": 66
    },
    {
     "cell_type": "code",
     "collapsed": false,
     "input": [
      "print(U, S, V)"
     ],
     "language": "python",
     "metadata": {},
     "outputs": [
      {
       "output_type": "stream",
       "stream": "stdout",
       "text": [
        "(array([[ -2.88675135e-01,   2.31681624e-16,  -8.16496581e-01,\n",
        "          5.00000000e-01],\n",
        "       [  8.66025404e-01,   1.00840585e-16,   0.00000000e+00,\n",
        "          5.00000000e-01],\n",
        "       [ -2.88675135e-01,  -7.07106781e-01,   4.08248290e-01,\n",
        "          5.00000000e-01],\n",
        "       [ -2.88675135e-01,   7.07106781e-01,   4.08248290e-01,\n",
        "          5.00000000e-01]]), array([ 4.,  3.,  1., -0.]), array([[ -2.88675135e-01,   8.66025404e-01,  -2.88675135e-01,\n",
        "         -2.88675135e-01],\n",
        "       [  4.36136794e-17,   3.33640976e-17,  -7.07106781e-01,\n",
        "          7.07106781e-01],\n",
        "       [ -8.16496581e-01,  -1.94289029e-16,   4.08248290e-01,\n",
        "          4.08248290e-01],\n",
        "       [  5.00000000e-01,   5.00000000e-01,   5.00000000e-01,\n",
        "          5.00000000e-01]]))\n"
       ]
      }
     ],
     "prompt_number": 67
    },
    {
     "cell_type": "code",
     "collapsed": false,
     "input": [
      "#HodgeRank\n",
      "L = np.sum(A,1)*np.eye(4,4) + -1 * A\n",
      "Lstar = np.linalg.pinv(L)\n",
      "#\"Rank\"\n",
      "sstar = -1*Lstar*D"
     ],
     "language": "python",
     "metadata": {},
     "outputs": [],
     "prompt_number": 63
    },
    {
     "cell_type": "code",
     "collapsed": false,
     "input": [
      "sstar"
     ],
     "language": "python",
     "metadata": {},
     "outputs": [
      {
       "metadata": {},
       "output_type": "pyout",
       "prompt_number": 64,
       "text": [
        "array([[-3.4375    , -0.        , -0.        ,  0.        ],\n",
        "       [ 0.        ,  0.5625    , -0.        ,  0.        ],\n",
        "       [ 0.        , -0.        ,  0.70833333, -0.        ],\n",
        "       [ 0.        , -0.        ,  0.        , -0.        ]])"
       ]
      }
     ],
     "prompt_number": 64
    },
    {
     "cell_type": "code",
     "collapsed": false,
     "input": [],
     "language": "python",
     "metadata": {},
     "outputs": []
    }
   ],
   "metadata": {}
  }
 ]
}