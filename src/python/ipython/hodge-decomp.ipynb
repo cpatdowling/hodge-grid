{
 "cells": [
  {
   "cell_type": "code",
   "execution_count": 1,
   "metadata": {},
   "outputs": [],
   "source": [
    "import numpy as np\n",
    "import networkx as nx\n",
    "from scipy.linalg import *"
   ]
  },
  {
   "cell_type": "code",
   "execution_count": null,
   "metadata": {},
   "outputs": [],
   "source": []
  },
  {
   "cell_type": "code",
   "execution_count": 2,
   "metadata": {},
   "outputs": [],
   "source": [
    "#flows\n",
    "X = np.array([[0, 5, 0, 0], [-5, 0, 3, -1], [0, -3, 0, 1], [0, 1, -1, 0]])\n",
    "#adjacency\n",
    "A = X.copy()\n",
    "A[A != 0] = 1\n",
    "\n",
    "#divergence of flow matrix\n",
    "D = np.sum(X, 1).dot(np.eye(4,4))\n",
    "\n",
    "#Laplacian\n",
    "L = np.sum(A,1).dot(np.eye(4,4)) + -1*A"
   ]
  },
  {
   "cell_type": "code",
   "execution_count": 3,
   "metadata": {},
   "outputs": [],
   "source": [
    "#svd to find domain/codomain of Laplacian\n",
    "U, S, V = np.linalg.svd(L)"
   ]
  },
  {
   "cell_type": "code",
   "execution_count": 4,
   "metadata": {},
   "outputs": [
    {
     "name": "stdout",
     "output_type": "stream",
     "text": [
      "[[ -5.55331770e-01   4.27245070e-01  -2.62681588e-16   7.13490207e-01]\n",
      " [ -4.78855079e-01  -8.65719992e-01   1.38051881e-17   1.45693885e-01]\n",
      " [ -4.80782923e-01   1.84378069e-01  -7.07106781e-01  -4.84615836e-01]\n",
      " [ -4.80782923e-01   1.84378069e-01   7.07106781e-01  -4.84615836e-01]] [ 6.37726751  1.49374707  1.          0.31492675] [[ -2.37860120e-01  -7.00983684e-01  -4.75417941e-01  -4.75417941e-01]\n",
      " [  5.32888884e-01  -6.72910147e-01   3.62781870e-01   3.62781870e-01]\n",
      " [  0.00000000e+00  -6.43383336e-17  -7.07106781e-01   7.07106781e-01]\n",
      " [ -8.12066500e-01  -2.36249462e-01   3.77315645e-01   3.77315645e-01]]\n"
     ]
    }
   ],
   "source": [
    "print(U, S, V)"
   ]
  },
  {
   "cell_type": "code",
   "execution_count": 5,
   "metadata": {},
   "outputs": [],
   "source": [
    "#HodgeRank\n",
    "L = np.sum(A,1).dot(np.eye(4,4)) + -1 * A\n",
    "Lstar = np.linalg.pinv(L)\n",
    "#\"Rank\"\n",
    "sstar = -1*Lstar.dot(D)"
   ]
  },
  {
   "cell_type": "code",
   "execution_count": 6,
   "metadata": {},
   "outputs": [
    {
     "data": {
      "text/plain": [
       "array([ 9.,  5., -5., -7.])"
      ]
     },
     "execution_count": 6,
     "metadata": {},
     "output_type": "execute_result"
    }
   ],
   "source": [
    "sstar"
   ]
  },
  {
   "cell_type": "code",
   "execution_count": null,
   "metadata": {},
   "outputs": [],
   "source": []
  }
 ],
 "metadata": {
  "kernelspec": {
   "display_name": "Python [default]",
   "language": "python",
   "name": "python3"
  },
  "language_info": {
   "codemirror_mode": {
    "name": "ipython",
    "version": 3
   },
   "file_extension": ".py",
   "mimetype": "text/x-python",
   "name": "python",
   "nbconvert_exporter": "python",
   "pygments_lexer": "ipython3",
   "version": "3.6.3"
  }
 },
 "nbformat": 4,
 "nbformat_minor": 1
}
