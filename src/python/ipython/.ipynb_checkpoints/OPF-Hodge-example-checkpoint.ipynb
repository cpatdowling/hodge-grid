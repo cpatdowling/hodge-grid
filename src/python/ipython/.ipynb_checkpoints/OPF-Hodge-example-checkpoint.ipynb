{
 "metadata": {
  "name": ""
 },
 "nbformat": 3,
 "nbformat_minor": 0,
 "worksheets": [
  {
   "cells": [
    {
     "cell_type": "code",
     "collapsed": false,
     "input": [
      "import numpy as np\n",
      "import scipy as sp\n",
      "import networkx as nx\n",
      "\n",
      "road_matrix =  np.array([[0,0,1,0,0,0,0,0,0],\n",
      "                         [0,0,0,1,0,0,0,0,0],\n",
      "                         [1,0,0,1,1,1,0,0,0],\n",
      "                         [0,1,1,0,1,0,1,0,0],\n",
      "                         [0,0,1,1,0,1,1,0,0],\n",
      "                         [0,0,1,0,1,0,1,1,0],\n",
      "                         [0,0,0,1,1,1,0,0,1],\n",
      "                         [0,0,0,0,0,1,0,0,0],\n",
      "                         [0,0,0,0,0,0,1,0,0]])\n",
      "\n",
      "road_graph = nx.from_numpy_matrix(road_matrix)\n",
      "road_dict = nx.to_dict_of_dicts(road_graph)"
     ],
     "language": "python",
     "metadata": {},
     "outputs": [],
     "prompt_number": 1
    },
    {
     "cell_type": "code",
     "collapsed": false,
     "input": [
      "def inject_car"
     ],
     "language": "python",
     "metadata": {},
     "outputs": [
      {
       "metadata": {},
       "output_type": "pyout",
       "prompt_number": 2,
       "text": [
        "{0: {2: {'weight': 1}},\n",
        " 1: {3: {'weight': 1}},\n",
        " 2: {0: {'weight': 1}, 3: {'weight': 1}, 4: {'weight': 1}, 5: {'weight': 1}},\n",
        " 3: {1: {'weight': 1}, 2: {'weight': 1}, 4: {'weight': 1}, 6: {'weight': 1}},\n",
        " 4: {2: {'weight': 1}, 3: {'weight': 1}, 5: {'weight': 1}, 6: {'weight': 1}},\n",
        " 5: {2: {'weight': 1}, 4: {'weight': 1}, 6: {'weight': 1}, 7: {'weight': 1}},\n",
        " 6: {3: {'weight': 1}, 4: {'weight': 1}, 5: {'weight': 1}, 8: {'weight': 1}},\n",
        " 7: {5: {'weight': 1}},\n",
        " 8: {6: {'weight': 1}}}"
       ]
      }
     ],
     "prompt_number": 2
    },
    {
     "cell_type": "code",
     "collapsed": false,
     "input": [],
     "language": "python",
     "metadata": {},
     "outputs": []
    }
   ],
   "metadata": {}
  }
 ]
}